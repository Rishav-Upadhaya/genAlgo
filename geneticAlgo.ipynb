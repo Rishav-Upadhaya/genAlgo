{
 "cells": [
  {
   "cell_type": "code",
   "execution_count": 29,
   "metadata": {},
   "outputs": [],
   "source": [
    "import random\n",
    "\n",
    "# Problem-specific parameters\n",
    "popn_size = 10\n",
    "bit_len = 9  # 1 sign bit + 3 integer bits + 5 fractional bits\n",
    "mut_rate = 0.2\n",
    "gen = 10  # Increase the number of generations for better convergence\n"
   ]
  },
  {
   "cell_type": "code",
   "execution_count": 30,
   "metadata": {},
   "outputs": [],
   "source": [
    "def fitness_function(x):\n",
    "    x_real = decode_binary(x)\n",
    "    return abs(9*x_real**2 - 4)  # We want to minimize this\n"
   ]
  },
  {
   "cell_type": "code",
   "execution_count": 32,
   "metadata": {},
   "outputs": [],
   "source": [
    "def decode_binary(x):\n",
    "    sign_bit = int(x[0])\n",
    "    integer_part = int(x[1:4], 2)\n",
    "    fractional_part = int(x[4:], 2) / 2**5\n",
    "    x_real = (-1)**sign_bit * (integer_part + fractional_part)\n",
    "    return x_real"
   ]
  },
  {
   "cell_type": "code",
   "execution_count": 33,
   "metadata": {},
   "outputs": [],
   "source": [
    "def initialize_population(population_size):\n",
    "    population = []\n",
    "    for _ in range(population_size):\n",
    "        individual = ''.join(random.choice('01') for _ in range(bit_len))\n",
    "        population.append(individual)\n",
    "    return population"
   ]
  },
  {
   "cell_type": "code",
   "execution_count": 34,
   "metadata": {},
   "outputs": [],
   "source": [
    "\n",
    "def crossover(parent1, parent2):\n",
    "    # Two-point crossover\n",
    "    point1, point2 = sorted(random.sample(range(1, bit_len), 2))\n",
    "    child1 = parent1[:point1] + parent2[point1:point2] + parent1[point2:]\n",
    "    child2 = parent2[:point1] + parent1[point1:point2] + parent2[point2:]\n",
    "    return child1, child2"
   ]
  },
  {
   "cell_type": "code",
   "execution_count": 35,
   "metadata": {},
   "outputs": [],
   "source": [
    "\n",
    "def mutate(individual):\n",
    "    mutated_individual = list(individual)\n",
    "    for i in range(bit_len):\n",
    "        if random.random() < mut_rate:\n",
    "            mutated_individual[i] = '0' if individual[i] == '1' else '1'\n",
    "    return ''.join(mutated_individual)"
   ]
  },
  {
   "cell_type": "code",
   "execution_count": 36,
   "metadata": {},
   "outputs": [],
   "source": [
    "\n",
    "def roulette_wheel_selection(population, fitness_values):\n",
    "    total_fitness = sum(fitness_values)\n",
    "    probabilities = [fitness / total_fitness for fitness in fitness_values]\n",
    "    pointer = random.random()\n",
    "    cumulative_prob = 0\n",
    "    for i, prob in enumerate(probabilities):\n",
    "        cumulative_prob += prob\n",
    "        if pointer <= cumulative_prob:\n",
    "            return population[i]"
   ]
  },
  {
   "cell_type": "code",
   "execution_count": 37,
   "metadata": {},
   "outputs": [],
   "source": [
    "\n",
    "def genetic_algorithm():\n",
    "    population = initialize_population(popn_size)\n",
    "    for generation in range(gen):\n",
    "        fitness_values = [fitness_function(x) for x in population]\n",
    "        new_population = []\n",
    "        for _ in range(popn_size // 2):\n",
    "            parent1 = roulette_wheel_selection(population, fitness_values)\n",
    "            parent2 = roulette_wheel_selection(population, fitness_values)\n",
    "            child1, child2 = crossover(parent1, parent2)\n",
    "            child1 = mutate(child1)\n",
    "            child2 = mutate(child2)\n",
    "            new_population.extend([child1, child2])\n",
    "        population = new_population\n",
    "\n",
    "        # Optionally, print the best solution in each generation\n",
    "        best_individual = min(population, key=fitness_function)\n",
    "        best_solution = decode_binary(best_individual)\n",
    "        best_fitness = fitness_function(best_individual)\n",
    "        print(f\"Generation {generation + 1}: x = {best_solution}, Fitness = {best_fitness}\")\n",
    "\n",
    "    best_individual = min(population, key=fitness_function)\n",
    "    best_solution = decode_binary(best_individual)\n",
    "    return best_individual, best_solution"
   ]
  },
  {
   "cell_type": "code",
   "execution_count": 38,
   "metadata": {},
   "outputs": [
    {
     "name": "stdout",
     "output_type": "stream",
     "text": [
      "Generation 1: x = -2.625, Fitness = 58.015625\n",
      "Generation 2: x = 3.6875, Fitness = 118.37890625\n",
      "Generation 3: x = 4.96875, Fitness = 218.1962890625\n",
      "Generation 4: x = -1.8125, Fitness = 25.56640625\n",
      "Generation 5: x = -1.21875, Fitness = 9.3681640625\n",
      "Generation 6: x = 3.375, Fitness = 98.515625\n",
      "Generation 7: x = 1.0, Fitness = 5.0\n",
      "Generation 8: x = -3.0625, Fitness = 80.41015625\n",
      "Generation 9: x = -3.375, Fitness = 98.515625\n",
      "Generation 10: x = -1.09375, Fitness = 6.7666015625\n",
      "Best individual found: 100100011\n",
      "Decoded best solution: x = -1.09375, Fitness = 6.7666015625\n"
     ]
    }
   ],
   "source": [
    "best_individual, best_solution = genetic_algorithm()\n",
    "best_fitness = fitness_function(best_individual)\n",
    "\n",
    "print(f\"Best individual found: {best_individual}\")\n",
    "print(f\"Decoded best solution: x = {best_solution}, Fitness = {best_fitness}\")"
   ]
  },
  {
   "cell_type": "code",
   "execution_count": null,
   "metadata": {},
   "outputs": [],
   "source": []
  }
 ],
 "metadata": {
  "kernelspec": {
   "display_name": "Python 3",
   "language": "python",
   "name": "python3"
  },
  "language_info": {
   "codemirror_mode": {
    "name": "ipython",
    "version": 3
   },
   "file_extension": ".py",
   "mimetype": "text/x-python",
   "name": "python",
   "nbconvert_exporter": "python",
   "pygments_lexer": "ipython3",
   "version": "3.10.4"
  }
 },
 "nbformat": 4,
 "nbformat_minor": 2
}
